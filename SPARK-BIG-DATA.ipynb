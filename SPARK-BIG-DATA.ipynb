{
  "nbformat": 4,
  "nbformat_minor": 0,
  "metadata": {
    "colab": {
      "name": "Untitled1.ipynb",
      "provenance": [],
      "collapsed_sections": [],
      "include_colab_link": true
    },
    "kernelspec": {
      "name": "python3",
      "display_name": "Python 3"
    }
  },
  "cells": [
    {
      "cell_type": "markdown",
      "metadata": {
        "id": "view-in-github",
        "colab_type": "text"
      },
      "source": [
        "<a href=\"https://colab.research.google.com/github/billk97/Machine-Lerning-Project/blob/master/SPARK-BIG-DATA.ipynb\" target=\"_parent\"><img src=\"https://colab.research.google.com/assets/colab-badge.svg\" alt=\"Open In Colab\"/></a>"
      ]
    },
    {
      "cell_type": "code",
      "metadata": {
        "colab": {
          "base_uri": "https://localhost:8080/"
        },
        "id": "ygrr4yNjFyqI",
        "outputId": "13ec34bc-03f2-484d-c606-9191be79d54e"
      },
      "source": [
        "!apt-get install openjdk-8-jdk-headless -qq > /dev/null\n",
        "!wget -q https://downloads.apache.org/spark/spark-3.0.1/spark-3.0.1-bin-hadoop2.7.tgz\n",
        "!ls -la\n"
      ],
      "execution_count": 62,
      "outputs": [
        {
          "output_type": "stream",
          "text": [
            "total 217524\n",
            "drwxr-xr-x  1 root root      4096 Dec  4 19:32 .\n",
            "drwxr-xr-x  1 root root      4096 Dec  4 18:50 ..\n",
            "drwxr-xr-x  2 root root      4096 Dec  4 19:09 all_qube\n",
            "-rw-r--r--  1 root root    210300 Dec  4 19:00 BORROWERS.TXT\n",
            "drwxr-xr-x  1 root root      4096 Dec  2 22:04 .config\n",
            "drwxr-xr-x  2 root root      4096 Dec  4 19:09 department\n",
            "drwxr-xr-x  2 root root      4096 Dec  4 19:09 department_gender\n",
            "drwxr-xr-x  2 root root      4096 Dec  4 19:12 erotima2\n",
            "drwxr-xr-x  2 root root      4096 Dec  4 19:09 gender\n",
            "drwxr-xr-x  2 root root      4096 Dec  4 19:03 .ipynb_checkpoints\n",
            "drwxr-xr-x  2 root root      4096 Dec  4 19:08 loansTable\n",
            "-rw-r--r--  1 root root   2550847 Dec  4 19:01 LOANS.TXT\n",
            "drwxr-xr-x  1 root root      4096 Dec  2 22:04 sample_data\n",
            "drwxr-xr-x 13 1000 1000      4096 Aug 28 08:10 spark-3.0.1-bin-hadoop2.7\n",
            "-rw-r--r--  1 root root 219929956 Aug 28 09:25 spark-3.0.1-bin-hadoop2.7.tgz\n"
          ],
          "name": "stdout"
        }
      ]
    },
    {
      "cell_type": "code",
      "metadata": {
        "colab": {
          "base_uri": "https://localhost:8080/"
        },
        "id": "H7M3-NarG_ky",
        "outputId": "c51b09fb-93c2-4db1-c534-f74df4b185ed"
      },
      "source": [
        "!tar xf spark-3.0.1-bin-hadoop2.7.tgz.4\n",
        "!pip install -q findspark\n",
        "!ls -la"
      ],
      "execution_count": 63,
      "outputs": [
        {
          "output_type": "stream",
          "text": [
            "tar: spark-3.0.1-bin-hadoop2.7.tgz.4: Cannot open: No such file or directory\n",
            "tar: Error is not recoverable: exiting now\n",
            "total 217524\n",
            "drwxr-xr-x  1 root root      4096 Dec  4 19:32 .\n",
            "drwxr-xr-x  1 root root      4096 Dec  4 18:50 ..\n",
            "drwxr-xr-x  2 root root      4096 Dec  4 19:09 all_qube\n",
            "-rw-r--r--  1 root root    210300 Dec  4 19:00 BORROWERS.TXT\n",
            "drwxr-xr-x  1 root root      4096 Dec  2 22:04 .config\n",
            "drwxr-xr-x  2 root root      4096 Dec  4 19:09 department\n",
            "drwxr-xr-x  2 root root      4096 Dec  4 19:09 department_gender\n",
            "drwxr-xr-x  2 root root      4096 Dec  4 19:12 erotima2\n",
            "drwxr-xr-x  2 root root      4096 Dec  4 19:09 gender\n",
            "drwxr-xr-x  2 root root      4096 Dec  4 19:03 .ipynb_checkpoints\n",
            "drwxr-xr-x  2 root root      4096 Dec  4 19:08 loansTable\n",
            "-rw-r--r--  1 root root   2550847 Dec  4 19:01 LOANS.TXT\n",
            "drwxr-xr-x  1 root root      4096 Dec  2 22:04 sample_data\n",
            "drwxr-xr-x 13 1000 1000      4096 Aug 28 08:10 spark-3.0.1-bin-hadoop2.7\n",
            "-rw-r--r--  1 root root 219929956 Aug 28 09:25 spark-3.0.1-bin-hadoop2.7.tgz\n"
          ],
          "name": "stdout"
        }
      ]
    },
    {
      "cell_type": "code",
      "metadata": {
        "id": "gRiU4NquHMTO"
      },
      "source": [
        "import os\n",
        "os.environ[\"JAVA_HOME\"] = \"/usr/lib/jvm/java-8-openjdk-amd64\"\n",
        "os.environ[\"SPARK_HOME\"] = \"/content/spark-3.0.1-bin-hadoop2.7\""
      ],
      "execution_count": 64,
      "outputs": []
    },
    {
      "cell_type": "code",
      "metadata": {
        "id": "kXFKJ34lHa5t"
      },
      "source": [
        "import findspark\n",
        "findspark.init()\n"
      ],
      "execution_count": 65,
      "outputs": []
    },
    {
      "cell_type": "code",
      "metadata": {
        "id": "mgHqJqXUHejF"
      },
      "source": [
        "from pyspark import SparkConf, SparkContext\n",
        "from pyspark.sql import SparkSession, types, HiveContext\n",
        "from pyspark.sql.types import *\n",
        "from pyspark.sql.functions import to_date"
      ],
      "execution_count": 66,
      "outputs": []
    },
    {
      "cell_type": "code",
      "metadata": {
        "id": "T66F58VzUrbK"
      },
      "source": [
        "import matplotlib.pyplot as plt\n",
        "import pandas as pd\n"
      ],
      "execution_count": 108,
      "outputs": []
    },
    {
      "cell_type": "code",
      "metadata": {
        "id": "AhkC5b4_Hrcl"
      },
      "source": [
        "spark = SparkSession.builder.appName(\"import\").config(\"spark.some.config.option\", \"some-value\").getOrCreate()\n",
        "spark.sparkContext.setLogLevel(\"WARN\")\n",
        "sc = spark.sparkContext "
      ],
      "execution_count": 67,
      "outputs": []
    },
    {
      "cell_type": "code",
      "metadata": {
        "id": "jP4cMRroHy8f"
      },
      "source": [
        "borrowers_txt = sc.textFile(\"BORROWERS.TXT\")\n",
        "borrowers = borrowers_txt.coalesce(1).map(lambda line: line.split(\"|\"))\n",
        "headers = borrowers.first()\n",
        "borrowers = borrowers.filter(lambda line: line != headers)\n",
        "borrowers = borrowers.map(lambda line: (int(line[0]), line[1], line[2]))\n"
      ],
      "execution_count": 68,
      "outputs": []
    },
    {
      "cell_type": "code",
      "metadata": {
        "colab": {
          "base_uri": "https://localhost:8080/"
        },
        "id": "gijq-YO2JF25",
        "outputId": "8749f524-eff4-41d7-a4a6-452b8c8a42cf"
      },
      "source": [
        "borrowers.take(5)"
      ],
      "execution_count": 69,
      "outputs": [
        {
          "output_type": "execute_result",
          "data": {
            "text/plain": [
              "[(1, 'M', 'Informatics'),\n",
              " (2, 'M', 'Low'),\n",
              " (3, 'M', 'BusinessAdministration'),\n",
              " (5, 'M', 'Mathematics'),\n",
              " (6, 'M', 'Low')]"
            ]
          },
          "metadata": {
            "tags": []
          },
          "execution_count": 69
        }
      ]
    },
    {
      "cell_type": "code",
      "metadata": {
        "id": "a8vL96GbJHUh"
      },
      "source": [
        "borrowers_schema = StructType([\n",
        "    StructField(headers[0], IntegerType(), True),\n",
        "    StructField(headers[1], StringType(), True),\n",
        "    StructField(headers[2], StringType(), True)\n",
        "])"
      ],
      "execution_count": 70,
      "outputs": []
    },
    {
      "cell_type": "code",
      "metadata": {
        "colab": {
          "base_uri": "https://localhost:8080/"
        },
        "id": "8eYA7sP2JKZk",
        "outputId": "efa2a1bd-942c-4d1c-f58d-56a90330d823"
      },
      "source": [
        "borrowers_DF = spark.createDataFrame(borrowers, borrowers_schema)\n",
        "borrowers_DF.createOrReplaceTempView(\"borrowersTable\")\n",
        "query = spark.sql(\"\"\"SELECT * FROM borrowersTable \"\"\")\n",
        "query.show(3)\n",
        "# query.write.format(\"csv\").save(\"borrowersTable\")"
      ],
      "execution_count": 71,
      "outputs": [
        {
          "output_type": "stream",
          "text": [
            "+---+------+--------------------+\n",
            "|bid|gender|          department|\n",
            "+---+------+--------------------+\n",
            "|  1|     M|         Informatics|\n",
            "|  2|     M|                 Low|\n",
            "|  3|     M|BusinessAdministr...|\n",
            "+---+------+--------------------+\n",
            "only showing top 3 rows\n",
            "\n"
          ],
          "name": "stdout"
        }
      ]
    },
    {
      "cell_type": "markdown",
      "metadata": {
        "id": "py0KOpBOJZC3"
      },
      "source": [
        "### IMPORTING LOANS\n",
        "\n"
      ]
    },
    {
      "cell_type": "code",
      "metadata": {
        "id": "mxtBaiPtJl1V"
      },
      "source": [
        "loans_txt = sc.textFile(\"LOANS.TXT\")\n",
        "loans = loans_txt.coalesce(1).map(lambda line: line.split(\"|\"))\n",
        "headers = loans.first()\n",
        "loans = loans.filter(lambda line: line != headers)\n",
        "loans = loans.map(lambda line: (int(line[0]),line[1],int(line[2]),line[3]))"
      ],
      "execution_count": 72,
      "outputs": []
    },
    {
      "cell_type": "code",
      "metadata": {
        "colab": {
          "base_uri": "https://localhost:8080/"
        },
        "id": "UsweYMa5JeqU",
        "outputId": "3b21b742-a981-4d3e-94e6-8e949509ca8d"
      },
      "source": [
        "loans.take(3)"
      ],
      "execution_count": 73,
      "outputs": [
        {
          "output_type": "execute_result",
          "data": {
            "text/plain": [
              "[(221, '44263', 339, '1995-02-28'),\n",
              " (9959, '42040', 576, '1995-02-28'),\n",
              " (1228, '45000', 167, '1995-02-28')]"
            ]
          },
          "metadata": {
            "tags": []
          },
          "execution_count": 73
        }
      ]
    },
    {
      "cell_type": "code",
      "metadata": {
        "id": "Eo26MII-Ji6V"
      },
      "source": [
        "loans_schema = StructType([\n",
        "    StructField(headers[0], IntegerType(), True),\n",
        "    StructField(headers[1], StringType(), True),\n",
        "    StructField(headers[2], IntegerType(), True),\n",
        "    StructField(headers[3], StringType(), True)\n",
        "])"
      ],
      "execution_count": 74,
      "outputs": []
    },
    {
      "cell_type": "code",
      "metadata": {
        "id": "arQLlsN4JzJR",
        "colab": {
          "base_uri": "https://localhost:8080/"
        },
        "outputId": "7b0f9e73-33f8-42ed-ca53-d0ddfbcafa88"
      },
      "source": [
        "loans_DF = spark.createDataFrame(loans, loans_schema)\n",
        "loans_DF.select(to_date(loans_DF.date_key, \"yyyy-MM-dd\").alias(\"date_key\")).collect()\n",
        "loans_DF.createOrReplaceTempView(\"loansTable\")\n",
        "query = spark.sql(\"\"\"SELECT * FROM loansTable\"\"\")\n",
        "query.show(3)\n",
        "# query.write.format(\"csv\").save(\"loansTable\")"
      ],
      "execution_count": 78,
      "outputs": [
        {
          "output_type": "stream",
          "text": [
            "+-----+------+---+----------+\n",
            "|bibno|copyno|bid|  date_key|\n",
            "+-----+------+---+----------+\n",
            "|  221| 44263|339|1995-02-28|\n",
            "| 9959| 42040|576|1995-02-28|\n",
            "| 1228| 45000|167|1995-02-28|\n",
            "+-----+------+---+----------+\n",
            "only showing top 3 rows\n",
            "\n"
          ],
          "name": "stdout"
        }
      ]
    },
    {
      "cell_type": "code",
      "metadata": {
        "colab": {
          "base_uri": "https://localhost:8080/"
        },
        "id": "wZmpjL2kMNZX",
        "outputId": "524157f1-fb75-4801-ed8a-b3dae91c744a"
      },
      "source": [
        "loans_DF.show(2)"
      ],
      "execution_count": 79,
      "outputs": [
        {
          "output_type": "stream",
          "text": [
            "+-----+------+---+----------+\n",
            "|bibno|copyno|bid|  date_key|\n",
            "+-----+------+---+----------+\n",
            "|  221| 44263|339|1995-02-28|\n",
            "| 9959| 42040|576|1995-02-28|\n",
            "+-----+------+---+----------+\n",
            "only showing top 2 rows\n",
            "\n"
          ],
          "name": "stdout"
        }
      ]
    },
    {
      "cell_type": "code",
      "metadata": {
        "id": "gbr2IVgoKDxY"
      },
      "source": [
        "bt = borrowers_DF.alias(\"bt\")\n",
        "lt = loans_DF.alias(\"lt\")\n",
        "# join = bt.join(lt, bt.bid == lt.bid) this will have 2 rows wit bid\n",
        "join = bt.join(lt, \"bid\")\n",
        "join.createOrReplaceTempView(\"join\")\n"
      ],
      "execution_count": 93,
      "outputs": []
    },
    {
      "cell_type": "code",
      "metadata": {
        "id": "iuQx0E9hKH0o",
        "colab": {
          "base_uri": "https://localhost:8080/"
        },
        "outputId": "d8dbcd01-8eb7-4f0b-82d4-4a0b07f5acb6"
      },
      "source": [
        "qube_all = spark.sql(\"SELECT department, gender, COUNT(bid) as bid_count FROM join  GROUP BY GROUPING SETS((department, gender), (department), (gender), ())\")\n",
        "qube_all = qube_all.coalesce(1)\n",
        "qube_all.show(30)\n",
        "# qube_all.write.format(\"csv\").save(\"all_qube\")"
      ],
      "execution_count": 94,
      "outputs": [
        {
          "output_type": "stream",
          "text": [
            "+--------------------+------+---------+\n",
            "|          department|gender|bid_count|\n",
            "+--------------------+------+---------+\n",
            "|             Physics|  null|     8411|\n",
            "|             Biology|     M|      917|\n",
            "|          Statistics|     F|     2065|\n",
            "|            Medicine|     M|     1570|\n",
            "|          Psychology|     F|     2636|\n",
            "|          Psychology|  null|     3756|\n",
            "|BusinessAdministr...|     M|     3625|\n",
            "|           Economics|  null|    16665|\n",
            "|                null|     F|    47930|\n",
            "|                null|  null|    91640|\n",
            "|BusinessAdministr...|  null|     7857|\n",
            "|            Medicine|  null|     4013|\n",
            "|                null|     M|    43710|\n",
            "|           Economics|     M|     8714|\n",
            "|         Mathematics|  null|    21799|\n",
            "|             Physics|     F|     3368|\n",
            "|         Mathematics|     F|    13888|\n",
            "|             Biology|     F|     1888|\n",
            "|         Informatics|  null|     8667|\n",
            "|          Psychology|     M|     1120|\n",
            "|            Medicine|     F|     2443|\n",
            "|                 Low|     F|     5847|\n",
            "|          Statistics|     M|     1302|\n",
            "|         Informatics|     F|     3612|\n",
            "|         Informatics|     M|     5055|\n",
            "|             Biology|  null|     2805|\n",
            "|             Physics|     M|     5043|\n",
            "|          Statistics|  null|     3367|\n",
            "|BusinessAdministr...|     F|     4232|\n",
            "|                 Low|     M|     8453|\n",
            "+--------------------+------+---------+\n",
            "only showing top 30 rows\n",
            "\n"
          ],
          "name": "stdout"
        }
      ]
    },
    {
      "cell_type": "code",
      "metadata": {
        "id": "mKANfxP-KIX-",
        "colab": {
          "base_uri": "https://localhost:8080/"
        },
        "outputId": "c0585042-9e53-4ad2-805c-55515a8f5850"
      },
      "source": [
        "# the above sql quiry sums below commands  \n",
        "qube_both = spark.sql(\"SELECT department, gender, COUNT(bid) FROM join GROUP BY department, gender\")\n",
        "qube_both = qube_both.coalesce(1)\n",
        "qube_both.show(3)\n",
        "# qube_both.write.format(\"csv\").save(\"department_gender\")\n",
        "\n",
        "qube_dep = spark.sql(\"SELECT department, COUNT(bid) FROM join GROUP BY department\")\n",
        "qube_dep = qube_dep.coalesce(1)\n",
        "# qube_dep.write.format(\"csv\").save(\"department\")\n",
        "qube_dep.show(3)\n",
        "\n",
        "qube_gent = spark.sql(\"SELECT gender, COUNT(bid) FROM join GROUP BY gender\")\n",
        "qube_gent = qube_gent.coalesce(1)\n",
        "qube_gent.show(3)\n",
        "# qube_gent.write.format(\"csv\").save(\"gender\")"
      ],
      "execution_count": 83,
      "outputs": [
        {
          "output_type": "stream",
          "text": [
            "+--------------------+------+----------+\n",
            "|          department|gender|count(bid)|\n",
            "+--------------------+------+----------+\n",
            "|             Biology|     M|       917|\n",
            "|          Statistics|     F|      2065|\n",
            "|BusinessAdministr...|     M|      3625|\n",
            "+--------------------+------+----------+\n",
            "only showing top 3 rows\n",
            "\n",
            "+----------+----------+\n",
            "|department|count(bid)|\n",
            "+----------+----------+\n",
            "|       Low|     14300|\n",
            "|Statistics|      3367|\n",
            "|Psychology|      3756|\n",
            "+----------+----------+\n",
            "only showing top 3 rows\n",
            "\n",
            "+------+----------+\n",
            "|gender|count(bid)|\n",
            "+------+----------+\n",
            "|     F|     47930|\n",
            "|     M|     43710|\n",
            "+------+----------+\n",
            "\n"
          ],
          "name": "stdout"
        }
      ]
    },
    {
      "cell_type": "code",
      "metadata": {
        "colab": {
          "base_uri": "https://localhost:8080/"
        },
        "id": "B96JwFUSKLih",
        "outputId": "4f45609d-caab-45c7-e391-d0dea7677e7e"
      },
      "source": [
        "qube_all.show(10)"
      ],
      "execution_count": 84,
      "outputs": [
        {
          "output_type": "stream",
          "text": [
            "+--------------------+------+---------+\n",
            "|          department|gender|bid_count|\n",
            "+--------------------+------+---------+\n",
            "|             Physics|  null|     8411|\n",
            "|             Biology|     M|      917|\n",
            "|          Statistics|     F|     2065|\n",
            "|            Medicine|     M|     1570|\n",
            "|          Psychology|     F|     2636|\n",
            "|          Psychology|  null|     3756|\n",
            "|BusinessAdministr...|     M|     3625|\n",
            "|           Economics|  null|    16665|\n",
            "|                null|     F|    47930|\n",
            "|                null|  null|    91640|\n",
            "+--------------------+------+---------+\n",
            "only showing top 10 rows\n",
            "\n"
          ],
          "name": "stdout"
        }
      ]
    },
    {
      "cell_type": "code",
      "metadata": {
        "colab": {
          "base_uri": "https://localhost:8080/"
        },
        "id": "WViLN4sZKQMZ",
        "outputId": "274a3ab4-fdb9-40ca-a90f-968b2fb0486d"
      },
      "source": [
        "t = qube_all.alias(\"t\")\n",
        "t.show(30)"
      ],
      "execution_count": 85,
      "outputs": [
        {
          "output_type": "stream",
          "text": [
            "+--------------------+------+---------+\n",
            "|          department|gender|bid_count|\n",
            "+--------------------+------+---------+\n",
            "|             Physics|  null|     8411|\n",
            "|             Biology|     M|      917|\n",
            "|          Statistics|     F|     2065|\n",
            "|            Medicine|     M|     1570|\n",
            "|          Psychology|     F|     2636|\n",
            "|          Psychology|  null|     3756|\n",
            "|BusinessAdministr...|     M|     3625|\n",
            "|           Economics|  null|    16665|\n",
            "|                null|     F|    47930|\n",
            "|                null|  null|    91640|\n",
            "|BusinessAdministr...|  null|     7857|\n",
            "|            Medicine|  null|     4013|\n",
            "|                null|     M|    43710|\n",
            "|           Economics|     M|     8714|\n",
            "|         Mathematics|  null|    21799|\n",
            "|             Physics|     F|     3368|\n",
            "|         Mathematics|     F|    13888|\n",
            "|             Biology|     F|     1888|\n",
            "|         Informatics|  null|     8667|\n",
            "|          Psychology|     M|     1120|\n",
            "|            Medicine|     F|     2443|\n",
            "|                 Low|     F|     5847|\n",
            "|          Statistics|     M|     1302|\n",
            "|         Informatics|     F|     3612|\n",
            "|         Informatics|     M|     5055|\n",
            "|             Biology|  null|     2805|\n",
            "|             Physics|     M|     5043|\n",
            "|          Statistics|  null|     3367|\n",
            "|BusinessAdministr...|     F|     4232|\n",
            "|                 Low|     M|     8453|\n",
            "+--------------------+------+---------+\n",
            "only showing top 30 rows\n",
            "\n"
          ],
          "name": "stdout"
        }
      ]
    },
    {
      "cell_type": "code",
      "metadata": {
        "colab": {
          "base_uri": "https://localhost:8080/"
        },
        "id": "DUTV8UdWKm_3",
        "outputId": "1f9e31d9-4426-47ff-b766-a9a26d06a5e6"
      },
      "source": [
        "tm = t.select(\"department\", t.gender, t.bid_count).where(t.gender == \"M\")\n",
        "tf = t.select(\"department\", t.gender, t.bid_count).where(t.gender == \"F\")\n",
        "tf = tf.withColumnRenamed(\"bid_count\", \"bid_count_F\")\n",
        "joined = tf.join(tm, \"department\")\n",
        "joined = joined.select(joined.department).where(\"bid_count_F > bid_count\")\n",
        "joined.show(10)\n"
      ],
      "execution_count": 86,
      "outputs": [
        {
          "output_type": "stream",
          "text": [
            "+--------------------+\n",
            "|          department|\n",
            "+--------------------+\n",
            "|             Biology|\n",
            "|BusinessAdministr...|\n",
            "|         Mathematics|\n",
            "|            Medicine|\n",
            "|          Psychology|\n",
            "|          Statistics|\n",
            "+--------------------+\n",
            "\n"
          ],
          "name": "stdout"
        }
      ]
    },
    {
      "cell_type": "code",
      "metadata": {
        "colab": {
          "base_uri": "https://localhost:8080/"
        },
        "id": "AF3PZ8FqLtmo",
        "outputId": "b673eba7-cdb9-47be-b59f-5ab993094042"
      },
      "source": [
        "# joined.write.format(\"csv\").save(\"erotima2\")\n",
        "join.show(3)"
      ],
      "execution_count": 99,
      "outputs": [
        {
          "output_type": "stream",
          "text": [
            "+---+------+--------------------+-----+------+----------+\n",
            "|bid|gender|          department|bibno|copyno|  date_key|\n",
            "+---+------+--------------------+-----+------+----------+\n",
            "|463|     M|BusinessAdministr...|26332| 40726|1997-11-12|\n",
            "|471|     M|         Mathematics| 5418| 41750|1996-05-08|\n",
            "|471|     M|         Mathematics| 5744| 22201|1996-05-08|\n",
            "+---+------+--------------------+-----+------+----------+\n",
            "only showing top 3 rows\n",
            "\n"
          ],
          "name": "stdout"
        }
      ]
    },
    {
      "cell_type": "code",
      "metadata": {
        "colab": {
          "base_uri": "https://localhost:8080/"
        },
        "id": "Y6SyWDZ3Mj1E",
        "outputId": "847ebb9e-3b18-4d4d-a1ef-1e551d75cc93"
      },
      "source": [
        "yearly_loans = loans_DF.withColumn('year', loans_DF['date_key'].substr(0, 4))\n",
        "yearly_loans = yearly_loans.drop('date_key')\n",
        "yearly_loans.show(3)"
      ],
      "execution_count": 96,
      "outputs": [
        {
          "output_type": "stream",
          "text": [
            "+-----+------+---+----+\n",
            "|bibno|copyno|bid|year|\n",
            "+-----+------+---+----+\n",
            "|  221| 44263|339|1995|\n",
            "| 9959| 42040|576|1995|\n",
            "| 1228| 45000|167|1995|\n",
            "+-----+------+---+----+\n",
            "only showing top 3 rows\n",
            "\n"
          ],
          "name": "stdout"
        }
      ]
    },
    {
      "cell_type": "code",
      "metadata": {
        "id": "omr372FoUUMO"
      },
      "source": [
        "yearly_loans.createOrReplaceTempView(\"yearly_loans\")"
      ],
      "execution_count": 101,
      "outputs": []
    },
    {
      "cell_type": "code",
      "metadata": {
        "colab": {
          "base_uri": "https://localhost:8080/"
        },
        "id": "tCoqXjs6Tw3K",
        "outputId": "141c3df4-1499-49ec-82c7-d9132ef10cb2"
      },
      "source": [
        "qube_year = spark.sql(\"SELECT year, COUNT(bid) FROM yearly_loans GROUP BY year\")\n",
        "qube_year = qube_year.coalesce(1)\n",
        "qube_year.sort(\"year\").show()"
      ],
      "execution_count": 103,
      "outputs": [
        {
          "output_type": "stream",
          "text": [
            "+----+----------+\n",
            "|year|count(bid)|\n",
            "+----+----------+\n",
            "|1995|      1995|\n",
            "|1996|      3180|\n",
            "|1997|      3979|\n",
            "|1998|      4969|\n",
            "|1999|      6593|\n",
            "|2000|      7462|\n",
            "|2001|     11532|\n",
            "|2002|     11799|\n",
            "|2003|     11904|\n",
            "|2004|     13362|\n",
            "|2005|     11389|\n",
            "|2006|      3476|\n",
            "+----+----------+\n",
            "\n"
          ],
          "name": "stdout"
        }
      ]
    },
    {
      "cell_type": "code",
      "metadata": {
        "id": "0nCop7W8N2M4"
      },
      "source": [
        "qube_year.write.format(\"csv\").save(\"erotima3\")"
      ],
      "execution_count": 107,
      "outputs": []
    },
    {
      "cell_type": "code",
      "metadata": {
        "colab": {
          "base_uri": "https://localhost:8080/"
        },
        "id": "2MxJULi1V62y",
        "outputId": "8addfb4b-cc31-45c0-858d-99c49e090924"
      },
      "source": [
        "df = pd.read_csv ('erotima3/erotima3.csv')\n",
        "df.columns = ['years', 'loans']\n",
        "df = df.sort_values(['years'])\n",
        "print(df)"
      ],
      "execution_count": 138,
      "outputs": [
        {
          "output_type": "stream",
          "text": [
            "    years  loans\n",
            "2    1995   1995\n",
            "7    1996   3180\n",
            "6    1997   3979\n",
            "8    1998   4969\n",
            "5    1999   6593\n",
            "0    2000   7462\n",
            "9    2001  11532\n",
            "1    2002  11799\n",
            "10   2003  11904\n",
            "4    2004  13362\n",
            "3    2006   3476\n"
          ],
          "name": "stdout"
        }
      ]
    },
    {
      "cell_type": "code",
      "metadata": {
        "colab": {
          "base_uri": "https://localhost:8080/",
          "height": 1000
        },
        "id": "VeAytr_YXecv",
        "outputId": "f6046352-5038-4214-8659-fc706c54b60c"
      },
      "source": [
        "diagram = df.plot(title='Yearly loans', x='years', y='loans')\n",
        "diagram.set_xlabel(\"Year\")\n",
        "diagram.set_ylabel(\"Loan count\")\n",
        "\n",
        "df.plot(kind='bar', x='years', y='loans')\n",
        "df.plot.scatter( x='years', y='loans')"
      ],
      "execution_count": 146,
      "outputs": [
        {
          "output_type": "execute_result",
          "data": {
            "text/plain": [
              "<matplotlib.axes._subplots.AxesSubplot at 0x7f48ad890940>"
            ]
          },
          "metadata": {
            "tags": []
          },
          "execution_count": 146
        },
        {
          "output_type": "display_data",
          "data": {
            "image/png": "[encoded data removed]",
            "text/plain": [
              "<Figure size 432x288 with 1 Axes>"
            ]
          },
          "metadata": {
            "tags": [],
            "needs_background": "light"
          }
        },
        {
          "output_type": "display_data",
          "data": {
            "image/png": "[encoded data removed]",
            "text/plain": [
              "<Figure size 432x288 with 1 Axes>"
            ]
          },
          "metadata": {
            "tags": [],
            "needs_background": "light"
          }
        },
        {
          "output_type": "display_data",
          "data": {
            "image/png": "[encoded data removed]",
            "text/plain": [
              "<Figure size 432x288 with 1 Axes>"
            ]
          },
          "metadata": {
            "tags": [],
            "needs_background": "light"
          }
        },
        {
          "output_type": "display_data",
          "data": {
            "image/png": "[encoded data removed]",
            "text/plain": [
              "<Figure size 432x288 with 1 Axes>"
            ]
          },
          "metadata": {
            "tags": [],
            "needs_background": "light"
          }
        }
      ]
    },
    {
      "cell_type": "code",
      "metadata": {
        "colab": {
          "base_uri": "https://localhost:8080/"
        },
        "id": "blZGKxXjXgfn",
        "outputId": "8a821f15-58b4-44e1-b08c-8a6b35fa0b20"
      },
      "source": [
        "print(diagram)"
      ],
      "execution_count": 127,
      "outputs": [
        {
          "output_type": "stream",
          "text": [
            "AxesSubplot(0.125,0.125;0.775x0.755)\n"
          ],
          "name": "stdout"
        }
      ]
    }
  ]
}